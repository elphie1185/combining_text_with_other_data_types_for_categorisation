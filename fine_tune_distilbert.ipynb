{
 "cells": [
  {
   "cell_type": "code",
   "execution_count": null,
   "metadata": {},
   "outputs": [],
   "source": [
    "import numpy as np\n",
    "import pandas as pd\n",
    "import sagemaker\n",
    "import torch\n",
    "\n",
    "from datasets import Dataset\n",
    "from datasets.filesystems import S3FileSystem\n",
    "from transformers import (\n",
    "    AutoTokenizer,\n",
    "    AutoModelForSequenceClassification,\n",
    "    TextClassificationPipeline\n",
    ")\n",
    "from sagemaker.huggingface import HuggingFace\n",
    "from sklearn.metrics import accuracy_score\n",
    "from sklearn.model_selection import train_test_split\n",
    "from sklearn.preprocessing import LabelEncoder\n",
    "\n",
    "# -------------------------------------\n",
    "# Display\n",
    "# -------------------------------------\n",
    "from IPython.core.interactiveshell import InteractiveShell\n",
    "InteractiveShell.ast_node_interactivity = \"all\"\n",
    "pd.set_option(\"display.max_colwidth\", None)"
   ]
  },
  {
   "cell_type": "markdown",
   "metadata": {},
   "source": [
    "# Load the data and split into a training and test dataset"
   ]
  },
  {
   "cell_type": "code",
   "execution_count": null,
   "metadata": {},
   "outputs": [],
   "source": [
    "wine_df = pd.read_csv(\"data/wine_data.csv\")\n",
    "bins = [0, 87, 94, np.inf]\n",
    "names = [\"neutral\", \"good\", \"excellent\"]\n",
    "\n",
    "wine_df[\"rating\"] = pd.cut(wine_df[\"points\"], bins, labels=names)"
   ]
  },
  {
   "cell_type": "code",
   "execution_count": null,
   "metadata": {},
   "outputs": [],
   "source": [
    "NUMERICAL_FEATURE = \"price\"\n",
    "CATEGORICAL_FEATURE = \"variety\"\n",
    "TEXT_FEATURE = \"description\"\n",
    "TARGET = \"rating\"\n",
    "FEATURES = [TEXT_FEATURE, NUMERICAL_FEATURE, CATEGORICAL_FEATURE]\n",
    "\n",
    "wine_df = wine_df[FEATURES + [TARGET]]"
   ]
  },
  {
   "cell_type": "code",
   "execution_count": null,
   "metadata": {},
   "outputs": [],
   "source": [
    "train_df, test_df = train_test_split(wine_df, test_size=0.2)"
   ]
  },
  {
   "cell_type": "markdown",
   "metadata": {},
   "source": [
    "# Preprocessing\n",
    "- generate the text input \n",
    "- tokenize text data"
   ]
  },
  {
   "cell_type": "code",
   "execution_count": null,
   "metadata": {},
   "outputs": [],
   "source": [
    "TARGET_CATEGORIES = [\"neutral\", \"good\", \"excellent\"]\n",
    "le = LabelEncoder().fit(TARGET_CATEGORIES)\n",
    "train_df[\"labels\"] = le.transform(train_df[TARGET])\n",
    "\n",
    "def generate_text_input(df):\n",
    "    # converting all columns to string type\n",
    "    df[FEATURES] = df[FEATURES].astype(str)\n",
    "    df[FEATURES] = df[FEATURES].fillna(\"\")\n",
    "    df[\"text\"] =df[FEATURES].agg(\" [SEP] \".join, axis=1)\n",
    "    return df\n",
    "\n",
    "train_df = generate_text_input(train_df, FEATURES)\n"
   ]
  },
  {
   "cell_type": "code",
   "execution_count": null,
   "metadata": {},
   "outputs": [],
   "source": [
    "MODEL_NAME = \"distilbert-base-uncased\"\n",
    "\n",
    "def tokenized_pytorch_tensors(\n",
    "        df: pd.DataFrame,\n",
    "        column_list: list\n",
    "    ) -> Dataset:\n",
    "\n",
    "    tokenizer = AutoTokenizer.from_pretrained(MODEL_NAME)\n",
    "    transformers_dataset = Dataset.from_pandas(df)\n",
    "\n",
    "    def tokenize(model_inputs_batch: Dataset) -> Dataset:\n",
    "        return tokenizer(\n",
    "            model_inputs_batch[TEXT_FEATURE],\n",
    "            padding=True,\n",
    "            max_length=120,\n",
    "            truncation=True,\n",
    "        )\n",
    "\n",
    "    tokenized_dataset = transformers_dataset.map(\n",
    "        tokenize,\n",
    "        batched=True,\n",
    "        batch_size=128\n",
    "    )\n",
    "\n",
    "    tokenized_dataset.set_format(\n",
    "        \"torch\",\n",
    "        columns=column_list\n",
    "    )\n",
    "\n",
    "    columns_to_remove = set(tokenized_dataset.column_names) - set(column_list)\n",
    "\n",
    "    tokenized_dataset = tokenized_dataset.remove_columns(list(columns_to_remove))\n",
    "\n",
    "    return tokenized_dataset\n",
    "\n",
    "print(\"Tokenize text in Dataset of Pytorch tensors\")\n",
    "\n",
    "tokenized_train_df = tokenized_pytorch_tensors(\n",
    "    train_df[[\"text\", \"labels\"]],\n",
    "    column_list=[\"input_ids\", \"attention_mask\", \"labels\"]\n",
    ")\n",
    "s3 = S3FileSystem()\n",
    "tokenized_train_df.save_to_disk(\"s3://path_to_training_data\", fs=s3)\n"
   ]
  },
  {
   "cell_type": "markdown",
   "metadata": {},
   "source": [
    "# Fine-tune distilbert"
   ]
  },
  {
   "cell_type": "code",
   "execution_count": null,
   "metadata": {},
   "outputs": [],
   "source": [
    "ROLE = sagemaker.get_execution_role()\n",
    "\n",
    "hyperparameters={\n",
    "    \"epochs\": 1,\n",
    "    \"train_batch_size\": 128,\n",
    "    \"model_name\": \"distilbert-base-uncased\",\n",
    "}\n",
    "\n",
    "huggingface_estimator = HuggingFace(\n",
    "    entry_point=\"train.py\",\n",
    "    source_dir=\"s3://path_to_training.tar.gz”\",\n",
    "    output_path=\"s3://path_to_outputs\",\n",
    "    instance_type=\"ml.g4dn.xlarge\",\n",
    "    instance_count=1,\n",
    "    transformers_version=\"4.6\",\n",
    "    pytorch_version=\"1.7\",\n",
    "    py_version=\"py36\",\n",
    "    hyperparameters = hyperparameters,\n",
    "    role=ROLE\n",
    ")\n",
    "\n",
    "huggingface_estimator.fit(\n",
    "    {\"train\": \"s3://path_to_training_data\"}\n",
    ")\n"
   ]
  },
  {
   "cell_type": "markdown",
   "metadata": {},
   "source": [
    "# Evaluate the model"
   ]
  },
  {
   "cell_type": "code",
   "execution_count": null,
   "metadata": {},
   "outputs": [],
   "source": [
    "test_df = generate_text_input(test_df, FEATURES)\n",
    "model = AutoModelForSequenceClassification.from_pretrained(\"path_to_model\")\n",
    "tokenizer = AutoTokenizer.from_pretrained(\"distilbert-base-uncased\")\n",
    "\n",
    "pipe = TextClassificationPipeline(\n",
    "    model=model,\n",
    "    tokenizer=tokenizer,\n",
    "    return_all_scores=False\n",
    ")\n",
    "\n",
    "test_df = generate_text_input(test_df, FEATURES)\n",
    "\n",
    "actual = test_df[TARGET].values\n",
    "predictions = [\n",
    "    pipe(text)\n",
    "    for text in test_df.text.values\n",
    "]\n",
    "prediction_labels = [int(prediction[0][\"label\"].split(\"_\")[1]) for prediction in predictions]\n",
    "decoded_predictions = le.inverse_transform(prediction_labels)\n",
    "accuracy_score(actual, decoded_predictions)"
   ]
  }
 ],
 "metadata": {
  "language_info": {
   "name": "python"
  }
 },
 "nbformat": 4,
 "nbformat_minor": 2
}
